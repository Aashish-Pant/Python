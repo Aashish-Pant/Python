{
 "cells": [
  {
   "cell_type": "code",
   "execution_count": null,
   "id": "04439519-7533-4fe5-b7d0-f7d78e9f1a5f",
   "metadata": {},
   "outputs": [],
   "source": [
    "1. Who doveloped python Programming Language? \n",
    "sol- Guido van Rossum\n",
    "\n",
    "2. Which type of Pragramming python suppart?\n",
    "sol- Python is an interpreted programming language, supporting object-oriented, structured,\n",
    "     and functional programming.\n",
    "\n",
    "3. Is python case sensitive when dealing with identifiers?\n",
    "sol- Yes, Python is a case-sensitive language.\n",
    "\n",
    "4.  What is the correct extension of the python file?\n",
    "sol- .py is the extension of the python file.\n",
    "\n",
    "5. Is python code compiled or interpreted?\n",
    "sol - python code is interpreted that means the code execute line by line .\n",
    "\n",
    "6.  Name a few blocks\tof code used to define in python language?\n",
    "sol- Indentation is used to define a block of code in python. Braces {} are used to define a block of code in \n",
    "most programming languages, like C, C++, and Java. But this indentation makes python unique among all \n",
    "programming languages.\n",
    "\n",
    "7. State a character used to give single-line comments in python ?\n",
    "sol- Hash character(#) is used to comment the line in the Python program. \n",
    "    \n",
    "8. Mention functions which can help us to find the version of python that wa are currently working on?\n",
    "sol - sys.version where we will import sys .\n",
    "    \n",
    "9. python supports tho creation of anonymous functions at runtime , using a construct called\n",
    "sol- lambda \n",
    "\n",
    "10.\tWhat does pip stand •for python?\n",
    "sol- PIP is “Preferred Installer Program”.It is a command-line utility that installs, reinstalls,\n",
    "    or uninstalls PyPI packages with one simple command: pip\n",
    "\n",
    "11.\tMention a few built—in functions In python ?\n",
    "sol- type() ,len() ,upper(), lower()\n",
    "\n",
    "12.\tWhat is the maximum possible length of an identifier in Python?\n",
    "sol- An identifier can have a maximum length of 79 characters in Python.\n",
    "    \n",
    "13.\tWhat are the benefits 0f using Python?\n",
    "sol - Easy to understand(write less,Do more) ,Large developer community,Extensive libraries,Portability.\n",
    "\n",
    "14.\tHow is memory managed in Python?\n",
    "sol- Memory management in Python involves a private heap containing all Python objects and data structures. \n",
    "    The management of this private heap is ensured internally by the Python memory manager.\n",
    "\n",
    "15. How to Install Python on Windows and set path variables?\n",
    "sol- First INstall Python from python website then add path in the user-environment variable.\n",
    "    \n",
    "16.Is indentation requirad in python?\n",
    "sol- YES indentation is requirad in python.It defines the blocks of statements."
   ]
  }
 ],
 "metadata": {
  "kernelspec": {
   "display_name": "Python 3 (ipykernel)",
   "language": "python",
   "name": "python3"
  },
  "language_info": {
   "codemirror_mode": {
    "name": "ipython",
    "version": 3
   },
   "file_extension": ".py",
   "mimetype": "text/x-python",
   "name": "python",
   "nbconvert_exporter": "python",
   "pygments_lexer": "ipython3",
   "version": "3.10.8"
  }
 },
 "nbformat": 4,
 "nbformat_minor": 5
}
