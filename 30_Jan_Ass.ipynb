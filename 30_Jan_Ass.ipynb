{
 "cells": [
  {
   "cell_type": "code",
   "execution_count": 1,
   "id": "3b466958-ae7d-4675-a8ee-428ed4d8c556",
   "metadata": {},
   "outputs": [
    {
     "name": "stdin",
     "output_type": "stream",
     "text": [
      "Enter the Percentage to find Grade 90\n"
     ]
    },
    {
     "name": "stdout",
     "output_type": "stream",
     "text": [
      "B\n"
     ]
    }
   ],
   "source": [
    "# solution 1st\n",
    "percentage =float(input(\"Enter the Percentage to find Grade\"))\n",
    "if percentage >90:\n",
    "    print(\"A\")\n",
    "elif percentage >80 and percentage<=90:\n",
    "    print(\"B\")\n",
    "elif percentage >=60 and percentage<=80 :\n",
    "    print(\"C\")\n",
    "else:\n",
    "    print(\"D\")"
   ]
  },
  {
   "cell_type": "code",
   "execution_count": 2,
   "id": "ecb4fb3c-8b89-4858-86f9-73515003ae5e",
   "metadata": {},
   "outputs": [
    {
     "name": "stdin",
     "output_type": "stream",
     "text": [
      "Enter the Cost-price to find Tax 8000\n"
     ]
    },
    {
     "name": "stdout",
     "output_type": "stream",
     "text": [
      "400.0\n"
     ]
    }
   ],
   "source": [
    "# solution 2nd\n",
    "cost_price =int(input(\"Enter the Cost-price to find Tax\"))\n",
    "if cost_price >100000:\n",
    "    print(0.15*cost_price)\n",
    "elif cost_price>50000 and cost_price<=100000:\n",
    "    print(0.1*cost_price)\n",
    "else:\n",
    "    print(0.05*cost_price)"
   ]
  },
  {
   "cell_type": "code",
   "execution_count": 3,
   "id": "60db5631-c64a-4d76-bee6-ff540b3c9ef0",
   "metadata": {},
   "outputs": [
    {
     "name": "stdin",
     "output_type": "stream",
     "text": [
      "Enter the City to diaplay Monuments of this city Jaipur\n"
     ]
    },
    {
     "name": "stdout",
     "output_type": "stream",
     "text": [
      "JalMahal\n"
     ]
    }
   ],
   "source": [
    "# solution 3rd\n",
    "city =input(\"Enter the City to diaplay Monuments of this city\")\n",
    "if city==\"Delhi\":\n",
    "    print(\"Red Fort\")\n",
    "elif city==\"Agra\":\n",
    "    print(\"Tajmahal\")\n",
    "elif city==\"Jaipur\":\n",
    "    print(\"JalMahal\")\n",
    "else:\n",
    "    print(\"you not entered right city\")"
   ]
  },
  {
   "cell_type": "code",
   "execution_count": 4,
   "id": "4628956c-09e5-4305-a8f0-35f30ea970ce",
   "metadata": {},
   "outputs": [
    {
     "name": "stdin",
     "output_type": "stream",
     "text": [
      "Enter the number to count how times it is divisible by 3  908\n"
     ]
    },
    {
     "name": "stdout",
     "output_type": "stream",
     "text": [
      "the number is  5 times divisible by 3\n"
     ]
    }
   ],
   "source": [
    "# solution 4th\n",
    "number=int(input(\"Enter the number to count how times it is divisible by 3 \"))\n",
    "count=0\n",
    "while number >10:\n",
    "                 number/=3\n",
    "                 count=count+1\n",
    "print(\"the number is \",count,\"times divisible by 3\")\n",
    "                 "
   ]
  },
  {
   "cell_type": "code",
   "execution_count": 6,
   "id": "4ec4cc3c-85ac-4ec2-a0b3-c702a8ff2721",
   "metadata": {},
   "outputs": [
    {
     "name": "stdout",
     "output_type": "stream",
     "text": [
      "10\n",
      "9\n",
      "8\n",
      "7\n",
      "6\n",
      "5\n",
      "4\n",
      "3\n",
      "2\n",
      "1\n"
     ]
    }
   ],
   "source": [
    "\"\"\" solution 5th\n",
    "We can use While-loop when we dont know the number of iterations or we can execute a set of statements as \n",
    "long as a condition is true.\n",
    "#EXAMPLE -display reverse number1-10 by while loop\"\"\"\n",
    "n=10\n",
    "while n>0:\n",
    "    print(n)\n",
    "    n-=1"
   ]
  },
  {
   "cell_type": "code",
   "execution_count": 7,
   "id": "f80d270d-d5fc-4255-8eee-e134308206bb",
   "metadata": {},
   "outputs": [
    {
     "name": "stdout",
     "output_type": "stream",
     "text": [
      "1 2 3 4 5 6 7 8 9 10 \n",
      "2 4 6 8 10 12 14 16 18 20 \n",
      "3 6 9 12 15 18 21 24 27 30 \n",
      "4 8 12 16 20 24 28 32 36 40 \n",
      "5 10 15 20 25 30 35 40 45 50 \n",
      "6 12 18 24 30 36 42 48 54 60 \n",
      "7 14 21 28 35 42 49 56 63 70 \n",
      "8 16 24 32 40 48 56 64 72 80 \n",
      "9 18 27 36 45 54 63 72 81 90 \n",
      "10 20 30 40 50 60 70 80 90 100 \n",
      "1 * 1 = 1\n",
      "1 * 2 = 2\n",
      "1 * 3 = 3\n",
      "1 * 4 = 4\n",
      "1 * 5 = 5\n",
      "1 * 6 = 6\n",
      "1 * 7 = 7\n",
      "1 * 8 = 8\n",
      "1 * 9 = 9\n",
      "1 * 10 = 10\n",
      "\n",
      "2 * 1 = 2\n",
      "2 * 2 = 4\n",
      "2 * 3 = 6\n",
      "2 * 4 = 8\n",
      "2 * 5 = 10\n",
      "2 * 6 = 12\n",
      "2 * 7 = 14\n",
      "2 * 8 = 16\n",
      "2 * 9 = 18\n",
      "2 * 10 = 20\n",
      "\n",
      "3 * 1 = 3\n",
      "3 * 2 = 6\n",
      "3 * 3 = 9\n",
      "3 * 4 = 12\n",
      "3 * 5 = 15\n",
      "3 * 6 = 18\n",
      "3 * 7 = 21\n",
      "3 * 8 = 24\n",
      "3 * 9 = 27\n",
      "3 * 10 = 30\n",
      "\n",
      "4 * 1 = 4\n",
      "4 * 2 = 8\n",
      "4 * 3 = 12\n",
      "4 * 4 = 16\n",
      "4 * 5 = 20\n",
      "4 * 6 = 24\n",
      "4 * 7 = 28\n",
      "4 * 8 = 32\n",
      "4 * 9 = 36\n",
      "4 * 10 = 40\n",
      "\n",
      "5 * 1 = 5\n",
      "5 * 2 = 10\n",
      "5 * 3 = 15\n",
      "5 * 4 = 20\n",
      "5 * 5 = 25\n",
      "5 * 6 = 30\n",
      "5 * 7 = 35\n",
      "5 * 8 = 40\n",
      "5 * 9 = 45\n",
      "5 * 10 = 50\n",
      "\n"
     ]
    }
   ],
   "source": [
    "# solution 6th (example for nested-while loop in Python)\n",
    "#1 this is a program to display multiplication table\n",
    "i=1\n",
    "while i<=10:\n",
    "  j=1\n",
    "  while j<=10:\n",
    "        print(i*j,end=\" \")\n",
    "        j+=1\n",
    "  i+=1\n",
    "  print()\n",
    "    \n",
    "#2this is a program to display multiplication table\n",
    "i=1\n",
    "while i<=5:\n",
    "  j=1\n",
    "  while j<=10:\n",
    "        print(i,\"*\",j,'=',i*j)\n",
    "        j+=1\n",
    "  i+=1\n",
    "  print()"
   ]
  },
  {
   "cell_type": "code",
   "execution_count": 8,
   "id": "659b9485-fea3-4036-8afb-0de7e756bd70",
   "metadata": {},
   "outputs": [
    {
     "name": "stdout",
     "output_type": "stream",
     "text": [
      "10\n",
      "9\n",
      "8\n",
      "7\n",
      "6\n",
      "5\n",
      "4\n",
      "3\n",
      "2\n",
      "1\n"
     ]
    }
   ],
   "source": [
    "# solution 7th and 8th is same as question is same\n",
    "# display reverse number1-10 by while loop\n",
    "n=10\n",
    "while n>0:\n",
    "    print(n)\n",
    "    n-=1"
   ]
  },
  {
   "cell_type": "code",
   "execution_count": null,
   "id": "3b3d49e1-5f26-46ef-86a8-ce9259262c1c",
   "metadata": {},
   "outputs": [],
   "source": []
  }
 ],
 "metadata": {
  "kernelspec": {
   "display_name": "Python 3 (ipykernel)",
   "language": "python",
   "name": "python3"
  },
  "language_info": {
   "codemirror_mode": {
    "name": "ipython",
    "version": 3
   },
   "file_extension": ".py",
   "mimetype": "text/x-python",
   "name": "python",
   "nbconvert_exporter": "python",
   "pygments_lexer": "ipython3",
   "version": "3.10.8"
  }
 },
 "nbformat": 4,
 "nbformat_minor": 5
}
