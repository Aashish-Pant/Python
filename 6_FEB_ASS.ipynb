{
 "cells": [
  {
   "cell_type": "markdown",
   "id": "8f12b912-b2a0-4e44-a0b5-ef36a60775cd",
   "metadata": {},
   "source": [
    "Q1. Create a function which will take a list as an argument and return the product of all the numbers\n",
    "after creating a flat list.\n",
    "Use the below-given list as an argument for your function.\n",
    "list1 = [1,2,3,4, [44,55,66, True], False, (34,56,78,89,34), {1,2,3,3,2,1}, {1:34, \"key2\": [55, 67, 78, 89],\n",
    "        4: (45,22, 61, 34)}, [56, 'data science'], 'Machine Learning']\n",
    "Note: you must extract numeric keys and values of the dictionary also."
   ]
  },
  {
   "cell_type": "code",
   "execution_count": 19,
   "id": "f9eb33f1-9070-4c3f-89b1-ff4317a8eadd",
   "metadata": {},
   "outputs": [],
   "source": [
    "def product_list(list1):\n",
    "    flat_list = []\n",
    "    for item in list1:\n",
    "        if type(item) == list or type(item) == tuple or type(item) == set:\n",
    "            for sub_item in item:\n",
    "                if type(sub_item) == int:\n",
    "                    flat_list.append(sub_item)\n",
    "        elif type(item) == dict:\n",
    "            for sub_item in item:\n",
    "                if type(sub_item)==int:\n",
    "                    flat_list.append(sub_item)\n",
    "                if type(item[sub_item])==list or type(item[sub_item])==tuple or type(item[sub_item])==set:\n",
    "                    for k in item[sub_item]:\n",
    "                                     if type(k) == int:\n",
    "                                                flat_list.append(k)\n",
    "                elif type(item[sub_item])==int:\n",
    "                    flat_list.append(item[sub_item])\n",
    "        elif type(item) == int:\n",
    "            flat_list.append(item)\n",
    "    print(flat_list)\n",
    "    product = 1 \n",
    "    for num in flat_list: \n",
    "        product *= num  \n",
    "\n",
    "    return product "
   ]
  },
  {
   "cell_type": "code",
   "execution_count": 20,
   "id": "df92e07a-efb0-4d98-bec8-4af917143451",
   "metadata": {},
   "outputs": [
    {
     "name": "stdout",
     "output_type": "stream",
     "text": [
      "[1, 2, 3, 4, 44, 55, 66, 34, 56, 78, 89, 34, 1, 2, 3, 1, 34, 55, 67, 78, 89, 4, 45, 22, 61, 34, 56]\n"
     ]
    },
    {
     "data": {
      "text/plain": [
       "4134711838987085478833841242112000"
      ]
     },
     "execution_count": 20,
     "metadata": {},
     "output_type": "execute_result"
    }
   ],
   "source": [
    "list1 = [1,2,3,4, [44,55,66, True], False, (34,56,78,89,34), {1,2,3,3,2,1}, {1:34, \"key2\": [55, 67, 78, 89], \n",
    "        4: (45,22, 61, 34)}, [56, 'data science'], 'Machine Learning']\n",
    "product_list(list1)"
   ]
  },
  {
   "cell_type": "code",
   "execution_count": null,
   "id": "44a2f4eb-8247-4b30-a672-28c9569ee598",
   "metadata": {},
   "outputs": [],
   "source": [
    "\"\"\"Q2. Write a python program for encrypting a message sent to you by your friend. The logic of encryption\n",
    "should be such that, for a the output should be z. For b, the output should be y. For c, the output should\n",
    "be x respectively. Also, the whitespace should be replaced with a dollar sign. Keep the punctuation\n",
    "marks unchanged.\n",
    "Input Sentence: I want to become a Data Scientist.\n",
    "Encrypt the above input sentence using the program you just created.\n",
    "Note: Convert the given input sentence into lowercase before encrypting. The final output should be\n",
    "lowercase. \"\"\""
   ]
  },
  {
   "cell_type": "code",
   "execution_count": 9,
   "id": "c44ac5fc-fb5e-4791-a923-40896a6fce15",
   "metadata": {},
   "outputs": [],
   "source": [
    "def encrypt(s):\n",
    "    s=s.lower()\n",
    "    s1=\"\"\n",
    "    for i in s:\n",
    "        if i==\" \":\n",
    "             s1+=\"$\"\n",
    "        if ord(i) in range(97,123):     \n",
    "            s1+=chr(122-ord(i)+97)\n",
    "        else:\n",
    "            s1+=i\n",
    "    return s1"
   ]
  },
  {
   "cell_type": "code",
   "execution_count": null,
   "id": "9bef2d4f-2679-4c1d-a6bd-ad2bb50ddad6",
   "metadata": {},
   "outputs": [
    {
     "data": {
      "text/plain": [
       "'r$ dzmg$ gl$ yvxlnv$ z$ wzgz$ hxrvmgrhg.'"
      ]
     },
     "execution_count": 11,
     "metadata": {},
     "output_type": "execute_result"
    }
   ],
   "source": [
    "s=\"I want to become a Data Scientist.\"\n",
    "encrypt(s)"
   ]
  },
  {
   "cell_type": "code",
   "execution_count": null,
   "id": "771e2427-f3bb-482e-97f6-995d40235455",
   "metadata": {},
   "outputs": [],
   "source": []
  }
 ],
 "metadata": {
  "kernelspec": {
   "display_name": "Python 3 (ipykernel)",
   "language": "python",
   "name": "python3"
  },
  "language_info": {
   "codemirror_mode": {
    "name": "ipython",
    "version": 3
   },
   "file_extension": ".py",
   "mimetype": "text/x-python",
   "name": "python",
   "nbconvert_exporter": "python",
   "pygments_lexer": "ipython3",
   "version": "3.10.8"
  }
 },
 "nbformat": 4,
 "nbformat_minor": 5
}
