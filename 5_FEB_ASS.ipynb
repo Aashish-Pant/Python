{
 "cells": [
  {
   "cell_type": "markdown",
   "id": "de4c8f5e-d603-47c6-a96e-5e13f24cf089",
   "metadata": {},
   "source": [
    "Q1. Explain Class and Object with respect to Object-Oriented Programming. Give a suitable example.\n",
    "sol- A class is a user-defined blueprint or prototype from which objects are created.\n",
    "     An Object is an instance of a Class. A class is like a blueprint while an instance \n",
    "     is a copy of the class with actual values\n"
   ]
  },
  {
   "cell_type": "code",
   "execution_count": 13,
   "id": "109d4625-90e4-4159-8179-ad072d26b3d6",
   "metadata": {},
   "outputs": [
    {
     "name": "stdout",
     "output_type": "stream",
     "text": [
      "BLACK\n"
     ]
    },
    {
     "data": {
      "text/plain": [
       "__main__.car"
      ]
     },
     "execution_count": 13,
     "metadata": {},
     "output_type": "execute_result"
    }
   ],
   "source": [
    "#example\n",
    "class car:\n",
    "    def __init__(self,name ,color):\n",
    "        self.name=name\n",
    "        self.color=color\n",
    "    def get(self):\n",
    "        return self.name ,self.color\n",
    "c1=car(\"OD\",\"BLACK\")\n",
    "print(c1.color)\n",
    "c1.get()\n",
    "type(c1)"
   ]
  },
  {
   "cell_type": "markdown",
   "id": "ef493e94-854b-493d-9049-4a7f95348534",
   "metadata": {},
   "source": [
    "Q2. Name the four pillars of OOPs.\n",
    "sol- INHERITENCE , POLYMORPHISM , ENCAPSULATION ,ABSTRATION"
   ]
  },
  {
   "cell_type": "markdown",
   "id": "23e72bf4-1a1f-40bd-956e-934408b41d28",
   "metadata": {},
   "source": [
    "Q3. Explain why the __init__() function is used. Give a suitable example.\n",
    "SOL- \"__init__\" is a reseved method in python classes. It is called as a constructor in object oriented \n",
    "terminology.This method is called when an object is created from a class and it allows the class to initialize \n",
    "the attributes of the class."
   ]
  },
  {
   "cell_type": "code",
   "execution_count": 15,
   "id": "8c6aa9f0-3610-418a-9148-f9037f5edb4e",
   "metadata": {},
   "outputs": [
    {
     "name": "stdout",
     "output_type": "stream",
     "text": [
      "BLACK\n"
     ]
    }
   ],
   "source": [
    "#example\n",
    "class car:\n",
    "    def __init__(self,name ,color):\n",
    "        self.name=name\n",
    "        self.color=color\n",
    "    def get(self):\n",
    "        return self.name ,self.color\n",
    "c1=car(\"OD\",\"BLACK\")\n",
    "print(c1.color)\n"
   ]
  },
  {
   "cell_type": "markdown",
   "id": "032e8612-6603-4cee-8ef7-ad0d72d54953",
   "metadata": {},
   "source": [
    "Q4.Why self is used in OOPs?\n",
    "sol- self is used to bind variables of the current object to the class.\n",
    "self represents the instance of the class. By using the “self” we can access the attributes and methods of the class in python. It binds the attributes with the given arguments."
   ]
  },
  {
   "cell_type": "code",
   "execution_count": null,
   "id": "3adf77d7-10f9-4272-8a1f-1e4a8f2bb562",
   "metadata": {},
   "outputs": [],
   "source": [
    "Q5.What is inheritance? Give an example for each type of inheritance.\n",
    "sol-Inheritance is the capability of one class to derive or inherit the properties from another class.\n",
    "\n",
    "Python Inheritance Syntax\n",
    "Class BaseClass:\n",
    "    {Body}\n",
    "Class DerivedClass(BaseClass):\n",
    "    {Body}\n",
    "\n",
    "Different types of Inheritance:\n",
    "1.Single inheritance: When a child class inherits from only one parent class, it is called single inheritance.\n",
    "2.Multiple inheritance: When a child class inherits from multiple parent classes, it is called multiple \n",
    "inheritance. \n",
    "3.Hierarchical inheritance: More than one derived class are created from a single base.\n",
    "4.Hybrid inheritance: This form combines more than one form of inheritance. Basically, it is a blend \n",
    "of more than one type of inheritance."
   ]
  },
  {
   "cell_type": "code",
   "execution_count": 18,
   "id": "cabffb15-822c-4c5d-8649-0ece9f504f14",
   "metadata": {},
   "outputs": [
    {
     "name": "stdout",
     "output_type": "stream",
     "text": [
      "Satyam 102\n",
      "Mayank 103\n",
      "Emp class called\n"
     ]
    }
   ],
   "source": [
    "#example-\n",
    "class Person:\n",
    "   \n",
    "  # Constructor\n",
    "  def __init__(self, name, id):\n",
    "    self.name = name\n",
    "    self.id = id\n",
    " \n",
    "  def Display(self):\n",
    "    print(self.name, self.id)\n",
    " \n",
    "emp = Person(\"Satyam\", 102) # An Object of Person\n",
    "emp.Display()\n",
    "\n",
    "class Emp(Person):\n",
    "   \n",
    "  def Print(self):\n",
    "    print(\"Emp class called\")\n",
    "     \n",
    "Emp_details = Emp(\"Mayank\", 103)\n",
    " \n",
    "# calling parent class function\n",
    "Emp_details.Display()\n",
    " \n",
    "# Calling child class function\n",
    "Emp_details.Print()"
   ]
  },
  {
   "cell_type": "code",
   "execution_count": null,
   "id": "cc806db3-b852-463f-ab60-4afa3d2fed03",
   "metadata": {},
   "outputs": [],
   "source": []
  }
 ],
 "metadata": {
  "kernelspec": {
   "display_name": "Python 3 (ipykernel)",
   "language": "python",
   "name": "python3"
  },
  "language_info": {
   "codemirror_mode": {
    "name": "ipython",
    "version": 3
   },
   "file_extension": ".py",
   "mimetype": "text/x-python",
   "name": "python",
   "nbconvert_exporter": "python",
   "pygments_lexer": "ipython3",
   "version": "3.10.8"
  }
 },
 "nbformat": 4,
 "nbformat_minor": 5
}
